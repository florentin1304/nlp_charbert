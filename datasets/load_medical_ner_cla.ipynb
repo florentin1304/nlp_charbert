{
 "cells": [
  {
   "cell_type": "code",
   "execution_count": null,
   "metadata": {},
   "outputs": [],
   "source": [
    "from datasets import load_dataset\n",
    "\n",
    "dataset = load_dataset(\"jnlpba\")"
   ]
  },
  {
   "cell_type": "code",
   "execution_count": null,
   "metadata": {},
   "outputs": [],
   "source": [
    "dataset['train']['tokens'][:1], dataset['train']['ner_tags'][:1]"
   ]
  },
  {
   "cell_type": "code",
   "execution_count": null,
   "metadata": {},
   "outputs": [],
   "source": [
    "dataset['train'].features[\"ner_tags\"].feature.names # list class names"
   ]
  },
  {
   "cell_type": "code",
   "execution_count": null,
   "metadata": {},
   "outputs": [],
   "source": [
    "dataset['train'].features[\"ner_tags\"].feature.int2str(1) # map an integer label to its string representation"
   ]
  },
  {
   "cell_type": "code",
   "execution_count": null,
   "metadata": {},
   "outputs": [],
   "source": [
    "# divide DatasetDict into train, validation, and test\n",
    "val_test = dataset['validation']\n",
    "val = val_test.shard(2, 0)\n",
    "test = val_test.shard(2, 1)\n",
    "val, test"
   ]
  },
  {
   "cell_type": "code",
   "execution_count": null,
   "metadata": {},
   "outputs": [],
   "source": [
    "dataset['validation'] = val\n",
    "dataset['test'] = test"
   ]
  },
  {
   "cell_type": "code",
   "execution_count": null,
   "metadata": {},
   "outputs": [],
   "source": [
    "dataset['train']['ner_tags']"
   ]
  },
  {
   "cell_type": "code",
   "execution_count": null,
   "metadata": {},
   "outputs": [],
   "source": [
    "# save the dataset\n",
    "dataset.save_to_disk('jnlpba')"
   ]
  },
  {
   "cell_type": "code",
   "execution_count": null,
   "metadata": {},
   "outputs": [],
   "source": [
    "int_to_key = dataset['train'].features[\"ner_tags\"].feature.int2str"
   ]
  },
  {
   "cell_type": "code",
   "execution_count": null,
   "metadata": {},
   "outputs": [],
   "source": [
    "dataset['train']['ner_tags'][0], dataset['train']['tokens'][0]"
   ]
  },
  {
   "cell_type": "code",
   "execution_count": null,
   "metadata": {},
   "outputs": [],
   "source": [
    "from tqdm import tqdm\n",
    "# create a txt file for train set\n",
    "with open('train.txt', 'w') as f:\n",
    "    all_tokens = dataset['train']['tokens']\n",
    "    all_tags = dataset['train']['ner_tags']\n",
    "    for tokens, tags in tqdm(zip(all_tokens, all_tags)):\n",
    "        for token, tag in zip(tokens, tags):\n",
    "            f.write(f'{token} {int_to_key(tag)}\\n')\n",
    "        f.write('\\n')"
   ]
  },
  {
   "cell_type": "code",
   "execution_count": null,
   "metadata": {},
   "outputs": [],
   "source": [
    "# create a txt file for validation set\n",
    "with open('val.txt', 'w') as f:\n",
    "    all_tokens = dataset['validation']['tokens']\n",
    "    all_tags = dataset['validation']['ner_tags']\n",
    "    for tokens, tags in tqdm(zip(all_tokens, all_tags)):\n",
    "        for token, tag in zip(tokens, tags):\n",
    "            f.write(f'{token} {int_to_key(tag)}\\n')\n",
    "        f.write('\\n')\n",
    "\n",
    "# create a txt file for test set\n",
    "with open('test.txt', 'w') as f:\n",
    "    all_tokens = dataset['test']['tokens']\n",
    "    all_tags = dataset['test']['ner_tags']\n",
    "    for tokens, tags in tqdm(zip(all_tokens, all_tags)):\n",
    "        for token, tag in zip(tokens, tags):\n",
    "            f.write(f'{token} {int_to_key(tag)}\\n')\n",
    "        f.write('\\n')"
   ]
  }
 ],
 "metadata": {
  "kernelspec": {
   "display_name": "base",
   "language": "python",
   "name": "python3"
  },
  "language_info": {
   "codemirror_mode": {
    "name": "ipython",
    "version": 3
   },
   "file_extension": ".py",
   "mimetype": "text/x-python",
   "name": "python",
   "nbconvert_exporter": "python",
   "pygments_lexer": "ipython3",
   "version": "3.10.13"
  }
 },
 "nbformat": 4,
 "nbformat_minor": 2
}
